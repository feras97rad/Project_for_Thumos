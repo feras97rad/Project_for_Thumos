{
 "cells": [
  {
   "cell_type": "markdown",
   "metadata": {},
   "source": [
    "# Description \n",
    "In my opinion, there are two conceptually different approaches to solving this problem.\n",
    "- The first is to search for files with a certain extension in a certain directory.\n",
    "- The second is in generating file names and concatination files by the generated names and the expected location directory. Without having to search for files and identify them earlier.\n",
    "\n",
    "In both cases, the pd.concat() method will be used to speed up the process and increase efficiency"
   ]
  },
  {
   "cell_type": "markdown",
   "metadata": {},
   "source": [
    "## The first method\n",
    "Here we gonna search for files with a certain extension in a certain directory\\\n",
    "It is expected that this directory contains only csv files that need to be concatenated"
   ]
  },
  {
   "cell_type": "code",
   "execution_count": null,
   "metadata": {},
   "outputs": [],
   "source": [
    "import pandas as pd\n",
    "import os"
   ]
  },
  {
   "cell_type": "code",
   "execution_count": null,
   "metadata": {},
   "outputs": [],
   "source": [
    "def merge_csv_files(folder_path):\n",
    "    file_list = os.listdir(path=folder_path)   # Getting the names of files in the directory\n",
    "    csv_files = [file for file in file_list if file.endswith('.csv')]   # Returning the names of files in the directory with the .csv extension\n",
    "    csv_files.sort()    # Sorting the file names we got earlier\n",
    "\n",
    "    merged_data = pd.DataFrame()    # Creating an empty dataframe\n",
    "\n",
    "    for csv_file in csv_files:\n",
    "        data = pd.read_csv(os.path.join(folder_path, csv_file))    # Opening each file\n",
    "        merged_data = pd.concat([merged_data, data], ignore_index=True)   # Concatenating it to the final dataframe\n",
    "\n",
    "    return merged_data  # Saving the merged DataFrame to a new CSV file"
   ]
  },
  {
   "cell_type": "code",
   "execution_count": null,
   "metadata": {},
   "outputs": [],
   "source": [
    "# Using example\n",
    "merge_csv_files(path_to_files)"
   ]
  },
  {
   "cell_type": "markdown",
   "metadata": {},
   "source": [
    "## The second method\n",
    "Here we gonna generate file names and concatinate files by the generated names and the expected location directory\\\n",
    "If there are files with an inappropriate name in this directory, this method will cause an error and we will have to look for the problem"
   ]
  },
  {
   "cell_type": "code",
   "execution_count": null,
   "metadata": {},
   "outputs": [],
   "source": [
    "import pandas as pd"
   ]
  },
  {
   "cell_type": "code",
   "execution_count": null,
   "metadata": {},
   "outputs": [],
   "source": [
    "# Specify the path to the files for Windows OS (in *unix-shaped OS, the syntax for specifying the path may differ)\n",
    "PATH = '\\\\path_to_csv_files\\\\'"
   ]
  },
  {
   "cell_type": "code",
   "execution_count": null,
   "metadata": {},
   "outputs": [],
   "source": [
    "# Creating an empty Pandas DataFrame\n",
    "merged_data = pd.DataFrame()"
   ]
  },
  {
   "cell_type": "code",
   "execution_count": null,
   "metadata": {},
   "outputs": [],
   "source": [
    "# Loop through the file names and upload them\n",
    "for i in range(1, 111): \n",
    "    file_name = f'data_{i:012d}.csv'  # Generating the filename with leading zeros\n",
    "    df = pd.read_csv(PATH + file_name)  # Loading each DataFrame\n",
    "    merged_data = pd.concat([merged_data, df], ignore_index=True)  # Concatenation with the main dataframe\n",
    "    \n",
    "    # Optionally, we may print the names generated to assure they're correct\n",
    "    print(file_name)"
   ]
  },
  {
   "cell_type": "markdown",
   "metadata": {},
   "source": [
    "## The third method\n",
    "This method is conceptually similar to the first one, but using other libraries"
   ]
  },
  {
   "cell_type": "code",
   "execution_count": null,
   "metadata": {},
   "outputs": [],
   "source": [
    "import pandas as pd\n",
    "import glob"
   ]
  },
  {
   "cell_type": "code",
   "execution_count": null,
   "metadata": {},
   "outputs": [],
   "source": [
    "def merge_csv_files(path_to_csv):\n",
    "\n",
    "    # Getting the names of files in the directory\n",
    "    csv_files = sorted(glob.glob(os.path.join(path_to_csv, \"*.csv\")))\n",
    "\n",
    "    # Creating an empty dataframe\n",
    "    merged_df = pd.DataFrame()\n",
    "\n",
    "    # Iterating over the CSV file names and append each file to the merged DataFrame\n",
    "    for file_name in csv_files:\n",
    "        merged_df = pd.concat([merged_df, pd.read_csv(file_name)], ignore_index=True)\n",
    "\n",
    "    # Saving the merged DataFrame to a new CSV file\n",
    "    merged_df.to_csv(\"merged_dataset.csv\", index=False)\n",
    "\n",
    "    return merged_df"
   ]
  },
  {
   "cell_type": "code",
   "execution_count": null,
   "metadata": {},
   "outputs": [],
   "source": [
    "# Using example\n",
    "merge_csv_files(path_to_csv)"
   ]
  }
 ],
 "metadata": {
  "kernelspec": {
   "display_name": "base",
   "language": "python",
   "name": "python3"
  },
  "language_info": {
   "codemirror_mode": {
    "name": "ipython",
    "version": 3
   },
   "file_extension": ".py",
   "mimetype": "text/x-python",
   "name": "python",
   "nbconvert_exporter": "python",
   "pygments_lexer": "ipython3",
   "version": "3.10.12"
  },
  "orig_nbformat": 4
 },
 "nbformat": 4,
 "nbformat_minor": 2
}
